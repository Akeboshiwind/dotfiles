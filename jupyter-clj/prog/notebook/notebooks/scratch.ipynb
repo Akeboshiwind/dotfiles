{
 "cells": [
  {
   "cell_type": "markdown",
   "metadata": {},
   "source": [
    "# Scratch notebook\n",
    "\n",
    "Let's load runtime dependencies:"
   ]
  },
  {
   "cell_type": "code",
   "execution_count": 1,
   "metadata": {
    "scrolled": false
   },
   "outputs": [
    {
     "data": {
      "text/html": [
       "<div><script>\n",
       "require.config({\n",
       "  paths: {\n",
       "    echarts: 'https://cdnjs.cloudflare.com/ajax/libs/echarts/4.0.4/echarts-en'\n",
       "  }\n",
       "});</script></div>"
      ]
     },
     "execution_count": 1,
     "metadata": {},
     "output_type": "execute_result"
    }
   ],
   "source": [
    "(ns scratch\n",
    "  (:require [cemerick.pomegranate :only (add-dependencies)]))\n",
    "\n",
    "(defn add-deps\n",
    "  [deps-list]\n",
    "  (cemerick.pomegranate/add-dependencies\n",
    "    :coordinates deps-list\n",
    "    :repositories (merge cemerick.pomegranate.aether/maven-central\n",
    "                         {\"clojars\" \"https://clojars.org/repo\"})))\n",
    "\n",
    "(add-deps '[[org.clojure/data.csv \"0.1.4\"]])\n",
    "(require '[clojupyter.echarts :as e]\n",
    "         '[clojure.data.csv :as csv]\n",
    "         '[clojure.java.io :as io])\n",
    "\n",
    "(e/init)"
   ]
  },
  {
   "cell_type": "markdown",
   "metadata": {},
   "source": [
    "## Loading data"
   ]
  },
  {
   "cell_type": "code",
   "execution_count": 2,
   "metadata": {},
   "outputs": [
    {
     "data": {
      "text/plain": [
       "#'scratch/data"
      ]
     },
     "execution_count": 2,
     "metadata": {},
     "output_type": "execute_result"
    }
   ],
   "source": [
    "(def data\n",
    " (->> \"data.csv\"\n",
    "  io/resource\n",
    "  slurp\n",
    "  csv/read-csv\n",
    "  rest\n",
    "  (map (fn [[x y]] [(Integer/parseInt x) (Integer/parseInt y)]))))"
   ]
  },
  {
   "cell_type": "markdown",
   "metadata": {},
   "source": [
    "## Drawing a graph\n",
    "\n",
    "Now let's draw a graph:"
   ]
  },
  {
   "cell_type": "code",
   "execution_count": 3,
   "metadata": {},
   "outputs": [
    {
     "data": {
      "text/html": [
       "<div><div id=\"a3fbf1ec-7ec5-4b7b-a4be-1e6181ecb0c7\" style=\"width:900px; height:400px\"></div><script>\n",
       "require(['echarts'], function(echarts) {\n",
       "    var chart = echarts.init(document.getElementById('a3fbf1ec-7ec5-4b7b-a4be-1e6181ecb0c7'));\n",
       "    chart.setOption({\"xAxis\":{\"type\":\"value\",\"name\":\"X Axis\",\"nameLocation\":\"middle\"},\"yAxis\":{\"type\":\"value\",\"name\":\"Y Axis\",\"nameLocation\":\"middle\",\"nameGap\":25},\"series\":[{\"data\":[[0,0],[1,1],[2,4],[3,9],[4,16],[5,25],[6,36]],\"type\":\"line\"}],\"tooltip\":{\"show\":true,\"axisPointer\":{\"type\":\"cross\",\"snap\":true}}})\n",
       "});</script></div>"
      ]
     },
     "execution_count": 3,
     "metadata": {},
     "output_type": "execute_result"
    }
   ],
   "source": [
    "(e/plot {:x-axis {:type :value\n",
    "                  :name \"X Axis\"\n",
    "                  :name-location \"middle\"}\n",
    "         :y-axis {:type :value\n",
    "                  :name \"Y Axis\"\n",
    "                  :name-location \"middle\"\n",
    "                  :name-gap 25}\n",
    "         :series [{:data data\n",
    "                   :type :line}]\n",
    "         :tooltip {:show true\n",
    "                   :axis-pointer {:type :cross\n",
    "                                  :snap true}}})"
   ]
  },
  {
   "cell_type": "code",
   "execution_count": null,
   "metadata": {},
   "outputs": [],
   "source": []
  }
 ],
 "metadata": {
  "kernelspec": {
   "display_name": "Lein-Clojure",
   "language": "clojure",
   "name": "lein-clojure"
  },
  "language_info": {
   "file_extension": ".clj",
   "mimetype": "text/x-clojure",
   "name": "clojure",
   "version": "1.10.0"
  }
 },
 "nbformat": 4,
 "nbformat_minor": 2
}
